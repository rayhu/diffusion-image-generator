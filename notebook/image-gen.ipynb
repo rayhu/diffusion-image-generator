{
 "cells": [
  {
   "cell_type": "code",
   "execution_count": null,
   "id": "f101fe76-fb62-4e26-8d77-49488068d142",
   "metadata": {},
   "outputs": [
    {
     "name": "stdout",
     "output_type": "stream",
     "text": [
      "Repository root: /home/ray/play/diffusion-ray-1\n",
      "Images directory: /home/ray/play/diffusion-ray-1/images\n"
     ]
    }
   ],
   "source": [
    "import os\n",
    "from pathlib import Path\n",
    "\n",
    "# For Jupyter notebooks, use os.getcwd() to get current working directory\n",
    "# Assuming notebook is run from repo root or we navigate to it\n",
    "REPO_ROOT = Path(os.getcwd())\n",
    "if REPO_ROOT.name == \"notebook\":\n",
    "    REPO_ROOT = REPO_ROOT.parent\n",
    "IMAGES_DIR = REPO_ROOT / \"generated-images\"\n",
    "\n",
    "print(f\"Repository root: {REPO_ROOT}\")\n",
    "print(f\"Images directory: {IMAGES_DIR}\")\n",
    "\n",
    "# Ensure images directory exists\n",
    "IMAGES_DIR.mkdir(exist_ok=True)\n",
    "\n"
   ]
  },
  {
   "cell_type": "code",
   "execution_count": 3,
   "id": "9345d129-4638-4f9c-aac3-c72bc63cc15d",
   "metadata": {},
   "outputs": [
    {
     "data": {
      "application/vnd.jupyter.widget-view+json": {
       "model_id": "c6fc5fe214d346639830ee7191d7b423",
       "version_major": 2,
       "version_minor": 0
      },
      "text/plain": [
       "Loading pipeline components...:   0%|          | 0/7 [00:00<?, ?it/s]"
      ]
     },
     "metadata": {},
     "output_type": "display_data"
    },
    {
     "name": "stderr",
     "output_type": "stream",
     "text": [
      "An error occurred while trying to fetch /home/ray/.cache/huggingface/hub/models--CompVis--stable-diffusion-v1-1/snapshots/574555a657f0c8d6e970a02c7e095e9d4220dcbf/unet: Error no file named diffusion_pytorch_model.safetensors found in directory /home/ray/.cache/huggingface/hub/models--CompVis--stable-diffusion-v1-1/snapshots/574555a657f0c8d6e970a02c7e095e9d4220dcbf/unet.\n",
      "Defaulting to unsafe serialization. Pass `allow_pickle=False` to raise an error instead.\n",
      "An error occurred while trying to fetch /home/ray/.cache/huggingface/hub/models--CompVis--stable-diffusion-v1-1/snapshots/574555a657f0c8d6e970a02c7e095e9d4220dcbf/vae: Error no file named diffusion_pytorch_model.safetensors found in directory /home/ray/.cache/huggingface/hub/models--CompVis--stable-diffusion-v1-1/snapshots/574555a657f0c8d6e970a02c7e095e9d4220dcbf/vae.\n",
      "Defaulting to unsafe serialization. Pass `allow_pickle=False` to raise an error instead.\n"
     ]
    },
    {
     "data": {
      "text/plain": [
       "StableDiffusionPipeline {\n",
       "  \"_class_name\": \"StableDiffusionPipeline\",\n",
       "  \"_diffusers_version\": \"0.35.2\",\n",
       "  \"_name_or_path\": \"CompVis/stable-diffusion-v1-1\",\n",
       "  \"feature_extractor\": [\n",
       "    \"transformers\",\n",
       "    \"CLIPImageProcessor\"\n",
       "  ],\n",
       "  \"image_encoder\": [\n",
       "    null,\n",
       "    null\n",
       "  ],\n",
       "  \"requires_safety_checker\": true,\n",
       "  \"safety_checker\": [\n",
       "    \"stable_diffusion\",\n",
       "    \"StableDiffusionSafetyChecker\"\n",
       "  ],\n",
       "  \"scheduler\": [\n",
       "    \"diffusers\",\n",
       "    \"PNDMScheduler\"\n",
       "  ],\n",
       "  \"text_encoder\": [\n",
       "    \"transformers\",\n",
       "    \"CLIPTextModel\"\n",
       "  ],\n",
       "  \"tokenizer\": [\n",
       "    \"transformers\",\n",
       "    \"CLIPTokenizer\"\n",
       "  ],\n",
       "  \"unet\": [\n",
       "    \"diffusers\",\n",
       "    \"UNet2DConditionModel\"\n",
       "  ],\n",
       "  \"vae\": [\n",
       "    \"diffusers\",\n",
       "    \"AutoencoderKL\"\n",
       "  ]\n",
       "}"
      ]
     },
     "execution_count": 3,
     "metadata": {},
     "output_type": "execute_result"
    }
   ],
   "source": [
    "from diffusers import StableDiffusionPipeline\n",
    "import torch\n",
    "\n",
    "pipe = StableDiffusionPipeline.from_pretrained(\n",
    "    \"CompVis/stable-diffusion-v1-1\",\n",
    "    torch_dtype=torch.float16\n",
    ")\n",
    "pipe.to(\"cuda\")\n",
    "\n"
   ]
  },
  {
   "cell_type": "code",
   "execution_count": 4,
   "id": "b02c6ad2-5aff-43e2-abbe-726a08a8c696",
   "metadata": {},
   "outputs": [
    {
     "data": {
      "application/vnd.jupyter.widget-view+json": {
       "model_id": "263f3d5345d24bd5ba1924906ce00ee4",
       "version_major": 2,
       "version_minor": 0
      },
      "text/plain": [
       "  0%|          | 0/50 [00:00<?, ?it/s]"
      ]
     },
     "metadata": {},
     "output_type": "display_data"
    },
    {
     "name": "stdout",
     "output_type": "stream",
     "text": [
      "Image saved to: /home/ray/play/diffusion-ray-1/images/vacation_home.png\n"
     ]
    }
   ],
   "source": [
    "image = pipe(\"Software engineer enjoys his weekend in a stunning vacation home\").images[0]\n",
    "\n",
    "\n",
    "# Save image to repo_root/images directory\n",
    "image_path = IMAGES_DIR / \"vacation_home.png\"\n",
    "image.save(str(image_path))\n",
    "print(f\"Image saved to: {image_path}\")\n"
   ]
  },
  {
   "cell_type": "code",
   "execution_count": null,
   "id": "33b40a93-68a3-479a-88c6-89b7baf75185",
   "metadata": {},
   "outputs": [],
   "source": []
  }
 ],
 "metadata": {
  "kernelspec": {
   "display_name": "Python 3 (ipykernel)",
   "language": "python",
   "name": "python3"
  },
  "language_info": {
   "codemirror_mode": {
    "name": "ipython",
    "version": 3
   },
   "file_extension": ".py",
   "mimetype": "text/x-python",
   "name": "python",
   "nbconvert_exporter": "python",
   "pygments_lexer": "ipython3",
   "version": "3.8.20"
  }
 },
 "nbformat": 4,
 "nbformat_minor": 5
}
